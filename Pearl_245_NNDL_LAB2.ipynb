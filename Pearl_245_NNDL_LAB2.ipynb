{
  "nbformat": 4,
  "nbformat_minor": 0,
  "metadata": {
    "colab": {
      "provenance": []
    },
    "kernelspec": {
      "name": "python3",
      "display_name": "Python 3"
    },
    "language_info": {
      "name": "python"
    }
  },
  "cells": [
    {
      "cell_type": "markdown",
      "source": [
        "1. Exploring Activation Functions in Neural Networks\n",
        "- Objective:\n",
        " - To explore and compare different activation functions used in artificial neural networks and understand their impact on the output of a neural network.\n",
        "- Scenario:\n",
        " - You are tasked with implementing and visualizing various activation functions to observe how they transform inputs and affect the output.\n",
        "  - You will also train a simple neural network using these activation functions and evaluate their performance.\n",
        "- Lab Tasks:\n",
        " - 1. Implement and Visualize Activation Functions:\n",
        "   - Implement the following activation functions in Python:\n",
        "    - Step Function\n",
        "    - Sigmoid Function (Binary and Bipolar)\n",
        "    - Tanh Function\n",
        "    - ReLU Function\n",
        "  - Visualize each activation function using matplotlib/seaborn/bokeh to\n",
        "observe how they map input values to output values.\n",
        "\n",
        "- 2. Implement a Simple Neural Network:\n",
        "  - Create a simple neural network with one hidden layer using each activation\n",
        "function (sigmoid, tanh, and ReLU).\n",
        "  - Train the network on a binary classification task (e.g., XOR problem) using a\n",
        "small dataset.\n",
        "  - Compare the performance of the neural network with different activation\n",
        "functions."
      ],
      "metadata": {
        "id": "WLY01qodQq77"
      }
    },
    {
      "cell_type": "code",
      "execution_count": null,
      "metadata": {
        "id": "NxkvL2hVQkl1"
      },
      "outputs": [],
      "source": [
        "import numpy as np\n",
        "import matplotlib.pyplot as plt\n",
        "import pandas as pd\n",
        "from sklearn.model_selection import train_test_split\n",
        "from sklearn import datasets"
      ]
    },
    {
      "cell_type": "markdown",
      "source": [
        " - 1. Implement and Visualize Activation Functions:\n",
        "   - Implement the following activation functions in Python:\n",
        "    - Step Function\n",
        "    - Sigmoid Function (Binary and Bipolar)\n",
        "    - Tanh Function\n",
        "    - ReLU Function\n",
        "  - Visualize each activation function using matplotlib/seaborn/bokeh to\n",
        "observe how they map input values to output values.\n",
        "\n"
      ],
      "metadata": {
        "id": "V5GhXmqPRpBk"
      }
    },
    {
      "cell_type": "code",
      "source": [
        "# Creating dummy dataset using linspace\n",
        "x = np.linspace(-5, 5, 100)\n",
        "x"
      ],
      "metadata": {
        "colab": {
          "base_uri": "https://localhost:8080/"
        },
        "id": "JiezgjGORst4",
        "outputId": "2ce4c634-39f9-4d36-cb76-6d0b3e73b244"
      },
      "execution_count": null,
      "outputs": [
        {
          "output_type": "execute_result",
          "data": {
            "text/plain": [
              "array([-5.        , -4.8989899 , -4.7979798 , -4.6969697 , -4.5959596 ,\n",
              "       -4.49494949, -4.39393939, -4.29292929, -4.19191919, -4.09090909,\n",
              "       -3.98989899, -3.88888889, -3.78787879, -3.68686869, -3.58585859,\n",
              "       -3.48484848, -3.38383838, -3.28282828, -3.18181818, -3.08080808,\n",
              "       -2.97979798, -2.87878788, -2.77777778, -2.67676768, -2.57575758,\n",
              "       -2.47474747, -2.37373737, -2.27272727, -2.17171717, -2.07070707,\n",
              "       -1.96969697, -1.86868687, -1.76767677, -1.66666667, -1.56565657,\n",
              "       -1.46464646, -1.36363636, -1.26262626, -1.16161616, -1.06060606,\n",
              "       -0.95959596, -0.85858586, -0.75757576, -0.65656566, -0.55555556,\n",
              "       -0.45454545, -0.35353535, -0.25252525, -0.15151515, -0.05050505,\n",
              "        0.05050505,  0.15151515,  0.25252525,  0.35353535,  0.45454545,\n",
              "        0.55555556,  0.65656566,  0.75757576,  0.85858586,  0.95959596,\n",
              "        1.06060606,  1.16161616,  1.26262626,  1.36363636,  1.46464646,\n",
              "        1.56565657,  1.66666667,  1.76767677,  1.86868687,  1.96969697,\n",
              "        2.07070707,  2.17171717,  2.27272727,  2.37373737,  2.47474747,\n",
              "        2.57575758,  2.67676768,  2.77777778,  2.87878788,  2.97979798,\n",
              "        3.08080808,  3.18181818,  3.28282828,  3.38383838,  3.48484848,\n",
              "        3.58585859,  3.68686869,  3.78787879,  3.88888889,  3.98989899,\n",
              "        4.09090909,  4.19191919,  4.29292929,  4.39393939,  4.49494949,\n",
              "        4.5959596 ,  4.6969697 ,  4.7979798 ,  4.8989899 ,  5.        ])"
            ]
          },
          "metadata": {},
          "execution_count": 30
        }
      ]
    },
    {
      "cell_type": "code",
      "source": [
        "# Step Function\n",
        "def step_function(x):\n",
        "    return np.where(x >= 0, 1, 0)"
      ],
      "metadata": {
        "id": "1BH6us_5SU9d"
      },
      "execution_count": null,
      "outputs": []
    },
    {
      "cell_type": "code",
      "source": [
        "# Sigmoid Binary Function\n",
        "def sigmoid(x):\n",
        "    return 1 / (1 + np.exp(-x))"
      ],
      "metadata": {
        "id": "LS5g1mNiScxf"
      },
      "execution_count": null,
      "outputs": []
    },
    {
      "cell_type": "code",
      "source": [
        "# Sigmoid Bipolar Function\n",
        "def sigmoid_bipolar(x):\n",
        "    return (1 - np.exp(-x)) / (1 + np.exp(-x))"
      ],
      "metadata": {
        "id": "hUhuY6tMSj5n"
      },
      "execution_count": null,
      "outputs": []
    },
    {
      "cell_type": "code",
      "source": [
        "# TanH Function\n",
        "def tanh_function(x):\n",
        "    return (np.exp(x) - np.exp(-x)) / (np.exp(x) + np.exp(-x))"
      ],
      "metadata": {
        "id": "JX2UN8nmSqi-"
      },
      "execution_count": null,
      "outputs": []
    },
    {
      "cell_type": "code",
      "source": [
        "# RelU Function\n",
        "def relu_function(x):\n",
        "    return np.maximum(0, x)"
      ],
      "metadata": {
        "id": "xL9azhaFSvnk"
      },
      "execution_count": null,
      "outputs": []
    },
    {
      "cell_type": "code",
      "source": [
        "# Visualize each activation function using matplotlib/seaborn/bokeh to observe how they map input values to output values.\n",
        "plt.figure(figsize=(12, 8))\n",
        "\n",
        "plt.subplot(2, 3, 1)\n",
        "plt.plot(x, step_function(x))\n",
        "plt.title('Step Function')\n",
        "\n",
        "plt.subplot(2, 3, 2)\n",
        "plt.plot(x, sigmoid(x))\n",
        "plt.title('Sigmoid Binary')\n",
        "\n",
        "plt.subplot(2, 3, 3)\n",
        "plt.plot(x, sigmoid_bipolar(x))\n",
        "plt.title('Sigmoid Bipolar')\n",
        "\n",
        "plt.subplot(2, 3, 4)\n",
        "plt.plot(x, tanh_function(x))\n",
        "plt.title('Tanh')\n",
        "\n",
        "plt.subplot(2, 3, 5)\n",
        "plt.plot(x, relu_function(x))\n",
        "plt.title('ReLU')\n",
        "\n",
        "plt.show()"
      ],
      "metadata": {
        "colab": {
          "base_uri": "https://localhost:8080/",
          "height": 566
        },
        "id": "FSofYPdgTBKX",
        "outputId": "7cd822a7-08be-4788-a08c-78bb2784fb3b"
      },
      "execution_count": null,
      "outputs": [
        {
          "output_type": "display_data",
          "data": {
            "text/plain": [
              "<Figure size 1200x800 with 5 Axes>"
            ],
            "image/png": "[encoded data removed]"
          },
          "metadata": {}
        }
      ]
    },
    {
      "cell_type": "markdown",
      "source": [
        "- 2. Implement a Simple Neural Network:\n",
        "  - Create a simple neural network with one hidden layer using each activation\n",
        "function (sigmoid, tanh, and ReLU).\n",
        "  - Train the network on a binary classification task (e.g., XOR problem) using a\n",
        "small dataset.\n",
        "  - Compare the performance of the neural network with different activation\n",
        "functions."
      ],
      "metadata": {
        "id": "jjFYqKcmRu_n"
      }
    },
    {
      "cell_type": "markdown",
      "source": [
        "Using Iris dataset from sklearn's datasets."
      ],
      "metadata": {
        "id": "0YHOKdIetG7_"
      }
    },
    {
      "cell_type": "code",
      "source": [
        "iris = datasets.load_iris()\n",
        "X = iris.data\n",
        "y = iris.target\n",
        "\n",
        "y_binary = (y == 0).astype(int)"
      ],
      "metadata": {
        "id": "9367ZLZyV71d"
      },
      "execution_count": null,
      "outputs": []
    },
    {
      "cell_type": "markdown",
      "source": [
        "Split the dataset into training and testing sets:"
      ],
      "metadata": {
        "id": "EsS5rsNUtADv"
      }
    },
    {
      "cell_type": "code",
      "source": [
        "# Split the dataset into training and testing sets\n",
        "X_train, X_test, y_train, y_test = train_test_split(X, y_binary, test_size=0.2, random_state=42)\n",
        "\n",
        "# Normalize the features\n",
        "X_train = X_train / X_train.max(axis=0)\n",
        "X_test = X_test / X_test.max(axis=0)"
      ],
      "metadata": {
        "id": "oX1jcyWJd_H-"
      },
      "execution_count": null,
      "outputs": []
    },
    {
      "cell_type": "markdown",
      "source": [
        "Forward propagation function that can either operate with sigmoid, tanh or relu activation functions."
      ],
      "metadata": {
        "id": "O17e6RwdtO1Q"
      }
    },
    {
      "cell_type": "code",
      "source": [
        "def forward_propagation(X, W1, b1, W2, b2, activation_func):\n",
        "    Z1 = np.dot(X, W1) + b1\n",
        "    if activation_func == 'sigmoid':\n",
        "        A1 = sigmoid(Z1)\n",
        "    elif activation_func == 'tanh':\n",
        "        A1 = tanh_function(Z1)\n",
        "    else:\n",
        "        A1 = relu_function(Z1)\n",
        "\n",
        "    Z2 = np.dot(A1, W2) + b2\n",
        "    A2 = sigmoid(Z2)  # Sigmoid for binary classification output\n",
        "    return A2"
      ],
      "metadata": {
        "id": "qucAPv7SeHdJ"
      },
      "execution_count": null,
      "outputs": []
    },
    {
      "cell_type": "markdown",
      "source": [
        "Evaluating the activation function to obtain the accuracy by comparing the predictions with the actual output."
      ],
      "metadata": {
        "id": "IO9fxIqpwEj9"
      }
    },
    {
      "cell_type": "code",
      "source": [
        "def evaluate_activation_function(X, Y, activation_func, hidden_size, output_size):\n",
        "    np.random.seed(42)\n",
        "    W1 = np.random.randn(X.shape[1], hidden_size) * 0.1\n",
        "    b1 = np.random.randn(1, hidden_size) * 0.1\n",
        "    W2 = np.random.randn(hidden_size, output_size) * 0.1\n",
        "    b2 = np.random.randn(1, output_size) * 0.1\n",
        "\n",
        "    A2 = forward_propagation(X, W1, b1, W2, b2, activation_func)  # Forward propagation only\n",
        "    predictions = (A2 > 0.5).astype(int)  # Threshold at 0.5 for binary classification\n",
        "    accuracy = np.mean(predictions == Y.reshape(-1, 1)) * 100  # Compute accuracy\n",
        "    return accuracy"
      ],
      "metadata": {
        "id": "aT5Crf84eNsR"
      },
      "execution_count": null,
      "outputs": []
    },
    {
      "cell_type": "markdown",
      "source": [
        "Run the Evaluate activation function that takes the test inputs and expected output as well as size of hidden and output neurons.\n",
        "We take size of hidden neurons as 5 and output neurons as 1 (binary)."
      ],
      "metadata": {
        "id": "dTc6-gqwu30O"
      }
    },
    {
      "cell_type": "code",
      "source": [
        "activation_functions = ['sigmoid', 'tanh', 'relu']\n",
        "results = {func: evaluate_activation_function(X_test, y_test, func, 5, 1) for func in activation_functions}"
      ],
      "metadata": {
        "id": "oTOv9TxReV0a"
      },
      "execution_count": null,
      "outputs": []
    },
    {
      "cell_type": "markdown",
      "source": [
        "Displaying the results for sigmoid, tanh and relu activation functions."
      ],
      "metadata": {
        "id": "LUeIO2LfvjqN"
      }
    },
    {
      "cell_type": "code",
      "source": [
        "print(\"Performance of Activation Functions:\")\n",
        "for func, accuracy in results.items():\n",
        "    print(f\"{func.capitalize()} Accuracy: {accuracy:.2f}%\")"
      ],
      "metadata": {
        "colab": {
          "base_uri": "https://localhost:8080/"
        },
        "id": "cVlJt-EyeZiK",
        "outputId": "250efef2-9785-43ef-f4fe-4aed682e2624"
      },
      "execution_count": null,
      "outputs": [
        {
          "output_type": "stream",
          "name": "stdout",
          "text": [
            "Performance of Activation Functions:\n",
            "Sigmoid Accuracy: 66.67%\n",
            "Tanh Accuracy: 66.67%\n",
            "Relu Accuracy: 66.67%\n"
          ]
        }
      ]
    }
  ]
}